{
 "cells": [
  {
   "cell_type": "markdown",
   "metadata": {},
   "source": [
    "# Programming assignment 25"
   ]
  },
  {
   "cell_type": "markdown",
   "metadata": {},
   "source": [
    "# Question 1:\n",
    "Create a function that takes three integer arguments (a, b, c) and returns the amount of\n",
    "integers which are of equal value.\n",
    "Examples\n",
    "equal(3, 4, 3) ➞ 2\n",
    "equal(1, 1, 1) ➞ 3\n",
    "equal(3, 4, 1) ➞ 0\n",
    "Notes\n",
    "Your function must return 0, 2 or 3."
   ]
  },
  {
   "cell_type": "code",
   "execution_count": 41,
   "metadata": {},
   "outputs": [
    {
     "name": "stdout",
     "output_type": "stream",
     "text": [
      "2\n",
      "3\n",
      "0\n"
     ]
    }
   ],
   "source": [
    "def equal(a,b,c):\n",
    "    if a == b == c:\n",
    "        return 3\n",
    "    elif (a == b or b == c or a == c) and (a != b or b != c or a != c):\n",
    "        return 2\n",
    "    else:\n",
    "        return 0\n",
    "print(equal(3, 4, 3))\n",
    "print(equal(1, 1, 1))\n",
    "print(equal(3, 4, 1))"
   ]
  },
  {
   "cell_type": "markdown",
   "metadata": {},
   "source": [
    "# Question 2:"
   ]
  },
  {
   "cell_type": "markdown",
   "metadata": {},
   "source": [
    "Write a function that converts a dictionary into a list of keys-values tuples.\n",
    "Examples\n",
    "dict_to_list({\n",
    "'D': 1,\n",
    "'B': 2,\n",
    "'C': 3\n",
    "}) ➞ [('B', 2), ('C', 3), ('D', 1)]\n",
    "dict_to_list({\n",
    "'likes': 2,\n",
    "'dislikes': 3,\n",
    "'followers': 10\n",
    "}) ➞ [('dislikes', 3), ('followers', 10), ('likes', 2)]\n",
    "Notes\n",
    "Return the elements in the list in alphabetical order."
   ]
  },
  {
   "cell_type": "code",
   "execution_count": 51,
   "metadata": {},
   "outputs": [
    {
     "name": "stdout",
     "output_type": "stream",
     "text": [
      "[('D', 1), ('B', 2), ('C', 3)]\n",
      "[('likes', 2), ('dislikes', 3), ('followers', 10)]\n"
     ]
    }
   ],
   "source": [
    "def dict_to_list(dic):\n",
    "    lst = []\n",
    "    for i in dic:\n",
    "        lst.append((i,dic[i]))\n",
    "    return lst\n",
    "print(dict_to_list({ 'D': 1, 'B': 2, 'C': 3 }))\n",
    "print(dict_to_list({ 'likes': 2, 'dislikes': 3, 'followers': 10 }))"
   ]
  },
  {
   "cell_type": "markdown",
   "metadata": {},
   "source": [
    "# Question 3:"
   ]
  },
  {
   "cell_type": "markdown",
   "metadata": {},
   "source": [
    "Write a function that creates a dictionary with each (key, value) pair being the (lower case,\n",
    "upper case) versions of a letter, respectively.\n",
    "Examples\n",
    "mapping(['p', 's']) ➞ { 'p': 'P', 's': 'S' }\n",
    "\n",
    "mapping(['a', 'b', 'c']) ➞ { 'a': 'A', 'b': 'B', 'c': 'C' }\n",
    "mapping(['a', 'v', 'y', 'z']) ➞ { 'a': 'A', 'v': 'V', 'y': 'Y', 'z': 'Z' }\n",
    "Notes\n",
    "All of the letters in the input list will always be lowercase."
   ]
  },
  {
   "cell_type": "code",
   "execution_count": 60,
   "metadata": {},
   "outputs": [
    {
     "name": "stdout",
     "output_type": "stream",
     "text": [
      "{'a': 'A', 'b': 'B', 'c': 'C'}\n",
      "{'a': 'A', 'v': 'V', 'y': 'Y', 'z': 'Z'}\n"
     ]
    }
   ],
   "source": [
    "def mapping(lst):\n",
    "    new_lst = []\n",
    "    for i in range(len(lst)):\n",
    "        new_lst.append((lst[i],lst[i].capitalize()))\n",
    "    return dict(new_lst)\n",
    "    \n",
    "print(mapping(['a', 'b', 'c']))\n",
    "print(mapping(['a', 'v', 'y', 'z']))"
   ]
  },
  {
   "cell_type": "markdown",
   "metadata": {},
   "source": [
    "# Question 4:"
   ]
  },
  {
   "cell_type": "markdown",
   "metadata": {},
   "source": [
    "Write a function, that replaces all vowels in a string with a specified vowel.\n",
    "Examples\n",
    "vow_replace('apples and bananas', 'u') ➞ 'upplus und bununus'\n",
    "vow_replace('cheese casserole', 'o') ➞ 'chooso cossorolo'\n",
    "vow_replace('stuffed jalapeno poppers', 'e') ➞ 'steffed jelepene peppers'\n",
    "Notes\n",
    "All words will be lowercase. Y is not considered a vowel."
   ]
  },
  {
   "cell_type": "code",
   "execution_count": 68,
   "metadata": {},
   "outputs": [
    {
     "name": "stdout",
     "output_type": "stream",
     "text": [
      "upplus und bununus\n",
      "chooso cossorolo\n",
      "steffed jelepene peppers\n"
     ]
    }
   ],
   "source": [
    "def vow_replace(st,ch):\n",
    "    vow = ['a','i','e','o','u']\n",
    "    for i in range(len(st)):\n",
    "        if st[i] in vow:\n",
    "            st = st.replace(st[i],ch)\n",
    "    return st\n",
    "print(vow_replace('apples and bananas', 'u'))\n",
    "print(vow_replace('cheese casserole', 'o'))\n",
    "print(vow_replace('stuffed jalapeno poppers', 'e'))"
   ]
  },
  {
   "cell_type": "markdown",
   "metadata": {},
   "source": [
    "# Question 5:"
   ]
  },
  {
   "cell_type": "markdown",
   "metadata": {},
   "source": [
    "Create a function that takes a string as input and capitalizes a letter if its ASCII code is even\n",
    "and returns its lower case version if its ASCII code is odd.\n",
    "Examples\n",
    "ascii_capitalize('to be or not to be!') ➞ 'To Be oR NoT To Be!'\n",
    "ascii_capitalize('THE LITTLE MERMAID') ➞ 'THe LiTTLe meRmaiD'\n",
    "ascii_capitalize('Oh what a beautiful morning.') ➞ 'oH wHaT a BeauTiFuL\n",
    "moRNiNg.'"
   ]
  },
  {
   "cell_type": "code",
   "execution_count": 71,
   "metadata": {},
   "outputs": [
    {
     "name": "stdout",
     "output_type": "stream",
     "text": [
      "To Be oR NoT To Be!\n",
      "THe LiTTLe meRmaiD\n",
      "oH wHaT a BeauTiFuL moRNiNg.\n"
     ]
    }
   ],
   "source": [
    "def ascii_capitalize(st):\n",
    "    for i in range(len(st)):\n",
    "        if ord(st[i])%2 == 0:\n",
    "            st = st.replace(st[i],st[i].upper())\n",
    "        else:\n",
    "            st = st.replace(st[i],st[i].lower())\n",
    "    return st\n",
    "print(ascii_capitalize('to be or not to be!'))\n",
    "print(ascii_capitalize('THE LITTLE MERMAID'))\n",
    "print(ascii_capitalize('Oh what a beautiful morning.'))"
   ]
  },
  {
   "cell_type": "code",
   "execution_count": null,
   "metadata": {},
   "outputs": [],
   "source": []
  }
 ],
 "metadata": {
  "kernelspec": {
   "display_name": "Python 3 (ipykernel)",
   "language": "python",
   "name": "python3"
  },
  "language_info": {
   "codemirror_mode": {
    "name": "ipython",
    "version": 3
   },
   "file_extension": ".py",
   "mimetype": "text/x-python",
   "name": "python",
   "nbconvert_exporter": "python",
   "pygments_lexer": "ipython3",
   "version": "3.9.2"
  }
 },
 "nbformat": 4,
 "nbformat_minor": 4
}
